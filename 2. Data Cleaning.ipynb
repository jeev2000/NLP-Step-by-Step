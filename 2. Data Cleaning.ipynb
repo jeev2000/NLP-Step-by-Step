{
 "cells": [
  {
   "cell_type": "code",
   "execution_count": 3,
   "metadata": {},
   "outputs": [],
   "source": [
    "#Load data from pickle\n",
    "import pickle\n",
    "\n",
    "with open(\"extracted_text.txt\",\"rb\") as file:\n",
    "    text = pickle.load(file)"
   ]
  },
  {
   "cell_type": "code",
   "execution_count": 4,
   "metadata": {},
   "outputs": [],
   "source": [
    "# Generate Tokens from the text extracted\n",
    "\n",
    "from nltk.tokenize import sent_tokenize, word_tokenize\n",
    "\n",
    "sentences = sent_tokenize(text)\n",
    "words = word_tokenize(text)"
   ]
  },
  {
   "cell_type": "code",
   "execution_count": 5,
   "metadata": {},
   "outputs": [],
   "source": [
    "# Stop words removal\n",
    "from nltk.corpus import stopwords\n",
    "from string import punctuation\n",
    "\n",
    "# create custom stopwords by adding pucntuation\n",
    "custom_stopwords = set(stopwords.words('english') + list(punctuation))\n",
    "\n",
    "filtered_text = [word for word in words if word not in custom_stopwords]\n",
    "# print(filtered_text)"
   ]
  },
  {
   "cell_type": "code",
   "execution_count": 6,
   "metadata": {},
   "outputs": [],
   "source": [
    "# Cleaning using Regular Expression\n",
    "import re\n",
    "import string\n",
    "\n",
    "def clean_via_re(text):\n",
    "    text = text.lower()\n",
    "    text = re.sub('.*\\d.*', '', text)\n",
    "    text = re.sub('[%s]' % re.escape(string.punctuation), '', text)\n",
    "    if text == 's':\n",
    "        text = \"\"\n",
    "#     text = re.sub('s','', text)\n",
    "    return text\n",
    "    \n",
    "    \n",
    "text_re_cleaning = [clean_via_re(text) for text in filtered_text]\n",
    "final_text = list(filter(None, text_re_cleaning))\n",
    "\n",
    "# print(final_text)\n"
   ]
  },
  {
   "cell_type": "code",
   "execution_count": 21,
   "metadata": {},
   "outputs": [
    {
     "name": "stdout",
     "output_type": "stream",
     "text": [
      "[('bridge', 30), ('the', 24), ('adam', 20), ('india', 20), ('sri', 15), ('lanka', 15), ('island', 12), ('in', 11), ('years', 11), ('rama', 10)]\n"
     ]
    }
   ],
   "source": [
    "#word frequency\n",
    "import nltk\n",
    "from nltk.tokenize import word_tokenize\n",
    "\n",
    "dist = nltk.FreqDist(final_text)\n",
    "# top_words = sorted(dist.items())[:10]\n",
    "top_words = dist.most_common()[:10]\n",
    "print(top_words)\n",
    "# for key, value in dist.items():\n",
    "#     print(str(key) + \":\" + str(value))\n",
    "  \n",
    "    "
   ]
  },
  {
   "cell_type": "code",
   "execution_count": 22,
   "metadata": {},
   "outputs": [],
   "source": [
    "#Pickle the filterd final text data into a file\n",
    "import pickle\n",
    "\n",
    "with open(\"final_clean_text.txt\", \"wb\") as file:\n",
    "    pickle.dump(final_text, file)"
   ]
  }
 ],
 "metadata": {
  "kernelspec": {
   "display_name": "Python 3",
   "language": "python",
   "name": "python3"
  },
  "language_info": {
   "codemirror_mode": {
    "name": "ipython",
    "version": 3
   },
   "file_extension": ".py",
   "mimetype": "text/x-python",
   "name": "python",
   "nbconvert_exporter": "python",
   "pygments_lexer": "ipython3",
   "version": "3.7.1"
  }
 },
 "nbformat": 4,
 "nbformat_minor": 2
}
