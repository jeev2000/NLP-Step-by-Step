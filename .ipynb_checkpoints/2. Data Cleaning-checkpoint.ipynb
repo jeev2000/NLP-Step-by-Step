{
 "cells": [
  {
   "cell_type": "code",
   "execution_count": 3,
   "metadata": {},
   "outputs": [],
   "source": [
    "#Load data from pickle\n",
    "import pickle\n",
    "\n",
    "with open(\"extracted_text.txt\",\"rb\") as file:\n",
    "    text = pickle.load(file)"
   ]
  },
  {
   "cell_type": "code",
   "execution_count": 4,
   "metadata": {},
   "outputs": [],
   "source": [
    "# Generate Tokens from the text extracted\n",
    "\n",
    "from nltk.tokenize import sent_tokenize, word_tokenize\n",
    "\n",
    "sentences = sent_tokenize(text)\n",
    "words = word_tokenize(text)"
   ]
  },
  {
   "cell_type": "code",
   "execution_count": 5,
   "metadata": {},
   "outputs": [],
   "source": [
    "# Stop words removal\n",
    "from nltk.corpus import stopwords\n",
    "from string import punctuation\n",
    "\n",
    "# create custom stopwords by adding pucntuation\n",
    "custom_stopwords = set(stopwords.words('english') + list(punctuation))\n",
    "\n",
    "filtered_text = [word for word in words if word not in custom_stopwords]\n",
    "# print(filtered_text)"
   ]
  },
  {
   "cell_type": "code",
   "execution_count": 8,
   "metadata": {},
   "outputs": [
    {
     "name": "stdout",
     "output_type": "stream",
     "text": [
      "['coordinates', 'adam', 'bridge', 'ātām', 'pālam', 'sinhala', 'adamgay', 'palama', 'also', 'known', 'rama', 'bridge', 'rama', 'setu', 'irāmar', 'pālam', 'sanskrit', 'rāmasetu', 'chain', 'limestone', 'shoals', 'pamban', 'island', 'also', 'known', 'rameswaram', 'island', 'southeastern', 'coast', 'tamil', 'nadu', 'india', 'mannar', 'island', 'northwestern', 'coast', 'sri', 'lanka', 'geological', 'evidence', 'suggests', 'bridge', 'former', 'land', 'connection', 'india', 'sri', 'lanka', 'the', 'bridge', 'km', 'mi', 'long', 'separates', 'gulf', 'mannar', 'southwest', 'palk', 'strait', 'northeast', 'some', 'regions', 'dry', 'sea', 'area', 'rarely', 'exceeds', 'metre', 'ft', 'depth', 'thus', 'hindering', 'navigational', 'opportunities', 'it', 'reportedly', 'passable', 'foot', 'century', 'storms', 'deepened', 'channel', 'temple', 'records', 'seem', 'say', 'adam', 'bridge', 'completely', 'sea', 'level', 'broke', 'cyclone', 'citation', 'needed', 'the', 'bridge', 'first', 'mentioned', 'ancient', 'indian', 'sanskrit', 'epic', 'ramayana', 'written', 'valmiki', 'wherein', 'rama', 'constructed', 'vanara', 'ape', 'men', 'army', 'reach', 'lanka', 'rescue', 'wife', 'sita', 'rakshasa', 'king', 'ravana', 'the', 'western', 'world', 'first', 'encountered', 'historical', 'works', 'century', 'ibn', 'khordadbeh', 'book', 'roads', 'kingdoms', 'c', 'referring', 'set', 'bandhai', 'bridge', 'sea', 'some', 'early', 'islamic', 'sources', 'refer', 'mountain', 'sri', 'lanka', 'adam', 'peak', 'adam', 'supposedly', 'fell', 'earth', 'described', 'adam', 'crossing', 'sri', 'lanka', 'india', 'via', 'bridge', 'leading', 'name', 'adam', 'bridge', 'alberuni', 'c', 'probably', 'first', 'describe', 'manner', 'the', 'earliest', 'map', 'calls', 'area', 'name', 'adam', 'bridge', 'prepared', 'british', 'cartographer', 'the', 'bridge', 'starts', 'chain', 'shoals', 'dhanushkodi', 'tip', 'india', 'pamban', 'island', 'ends', 'sri', 'lanka', 'mannar', 'island', 'pamban', 'island', 'semiconnected', 'indian', 'mainland', 'km', 'long', 'pamban', 'bridge', 'mannar', 'island', 'connected', 'mainland', 'sri', 'lanka', 'causeway', 'the', 'border', 'india', 'sri', 'lanka', 'said', 'pass', 'across', 'one', 'shoals', 'constituting', 'one', 'shortest', 'land', 'borders', 'world', 'ramasetu', 'neighbouring', 'areas', 'like', 'rameswaram', 'dhanushkodi', 'devipattinam', 'thirupullani', 'mentioned', 'context', 'various', 'legends', 'ramayana', 'considerable', 'diversity', 'opinion', 'confusion', 'exists', 'nature', 'origin', 'structure', 'in', 'century', 'two', 'major', 'theories', 'prominent', 'explaining', 'structure', 'one', 'considered', 'formed', 'process', 'accretion', 'rising', 'land', 'surmised', 'established', 'breaking', 'away', 'sri', 'lanka', 'indian', 'mainland', 'the', 'friable', 'calcareous', 'ridges', 'later', 'broke', 'large', 'rectangular', 'blocks', 'perhaps', 'gave', 'rise', 'belief', 'causeway', 'artificial', 'construction', 'according', 'v', 'ram', 'mohan', 'centre', 'natural', 'hazards', 'disaster', 'studies', 'university', 'madras', 'reconstruction', 'geological', 'evolution', 'island', 'chain', 'challenging', 'task', 'carried', 'based', 'circumstantial', 'evidence', 'the', 'lack', 'comprehensive', 'field', 'studies', 'explains', 'many', 'uncertainties', 'regarding', 'nature', 'origin', 'adam', 'bridge', 'mostly', 'consists', 'series', 'parallel', 'ledges', 'sandstone', 'conglomerates', 'hard', 'surface', 'grow', 'coarse', 'soft', 'descend', 'sandy', 'banks', 'studies', 'variously', 'described', 'structure', 'chain', 'shoals', 'coral', 'reefs', 'ridge', 'formed', 'region', 'owing', 'thinning', 'earth', 'crust', 'double', 'tombolo', 'sand', 'spit', 'barrier', 'islands', 'one', 'account', 'mentions', 'landform', 'formerly', 'world', 'largest', 'tombolo', 'split', 'chain', 'shoals', 'slight', 'rise', 'mean', 'sea', 'level', 'thousand', 'years', 'ago', 'based', 'satellite', 'remote', 'sensing', 'data', 'without', 'actual', 'field', 'verification', 'marine', 'water', 'resources', 'group', 'space', 'application', 'centre', 'sac', 'indian', 'space', 'research', 'organisation', 'isro', 'concludes', 'adam', 'bridge', 'comprises', 'small', 'patch', 'reefs', 'lying', 'linear', 'pattern', 'the', 'feature', 'consists', 'reef', 'crest', 'flattened', 'emergent', 'especially', 'low', 'tides', 'nearly', 'emergent', 'segment', 'reef', 'sand', 'cays', 'accumulations', 'loose', 'coral', 'sands', 'beach', 'rock', 'intermittent', 'deep', 'channels', 'the', 'coral', 'reefs', 'variously', 'designated', 'studies', 'ribbon', 'atoll', 'reefs', 'the', 'geological', 'process', 'gave', 'rise', 'structure', 'attributed', 'one', 'study', 'crustal', 'warping', 'block', 'faulting', 'mantle', 'plume', 'activity', 'another', 'theory', 'attributes', 'continuous', 'sand', 'deposition', 'natural', 'process', 'sedimentation', 'leading', 'formation', 'chain', 'barrier', 'islands', 'related', 'rising', 'sea', 'levels', 'another', 'theory', 'affirms', 'origin', 'linearity', 'adam', 'bridge', 'might', 'due', 'old', 'shoreline', 'implying', 'two', 'landmasses', 'india', 'sri', 'lanka', 'connected', 'shoreline', 'coral', 'reefs', 'developed', 'another', 'study', 'attributes', 'origin', 'structure', 'longshore', 'drifting', 'currents', 'moved', 'anticlockwise', 'direction', 'north', 'clockwise', 'direction', 'south', 'rameswaram', 'talaimannar', 'the', 'sand', 'could', 'dumped', 'linear', 'pattern', 'along', 'current', 'shadow', 'zone', 'dhanushkodi', 'talaimannar', 'later', 'accumulation', 'corals', 'linear', 'sand', 'bodies', 'in', 'diametrically', 'opposing', 'view', 'another', 'group', 'geologists', 'propose', 'crustal', 'thinning', 'theory', 'block', 'faulting', 'ridge', 'formed', 'region', 'owing', 'thinning', 'asserts', 'development', 'ridge', 'augmented', 'coral', 'growth', 'area', 'turn', 'coral', 'cover', 'acted', 'sand', 'trapper', 'the', 'tombolo', 'model', 'affirms', 'constant', 'sediment', 'source', 'high', 'unidirectional', 'bidirectional', 'monsoonal', 'longshore', 'current', 'citation', 'needed', 'one', 'study', 'tentatively', 'concludes', 'insufficient', 'evidence', 'indicate', 'eustatic', 'emergence', 'raised', 'reef', 'southern', 'india', 'probably', 'results', 'local', 'uplift', 'other', 'studies', 'also', 'conclude', 'periods', 'lowered', 'sea', 'level', 'last', 'years', 'adam', 'bridge', 'provided', 'intermittent', 'land', 'connection', 'india', 'sri', 'lanka', 'according', 'famous', 'ornithologists', 'sidney', 'dillon', 'ripley', 'bruce', 'beehler', 'supports', 'vicariance', 'model', 'speciation', 'birds', 'indian', 'subcontinent', 'the', 'studies', 'project', 'rameswaram', 'geological', 'survey', 'india', 'gsi', 'included', 'dating', 'corals', 'indicate', 'rameswaram', 'island', 'evolved', 'beginning', 'years', 'ago', 'radiocarbon', 'dating', 'samples', 'study', 'suggests', 'domain', 'rameswaram', 'talaimannar', 'may', 'exposed', 'sometime', 'years', 'ago', 'thermoluminescence', 'dating', 'gsi', 'concludes', 'sand', 'dunes', 'dhanushkodi', 'adam', 'bridge', 'started', 'forming', 'years', 'ago', 'an', 'investigation', 'centre', 'remote', 'sensing', 'crs', 'bharathidasan', 'university', 'tiruchi', 'led', 'professor', 'sm', 'ramasamy', 'dates', 'structure', 'years', 'in', 'study', 'carbon', 'dating', 'ancient', 'beaches', 'thiruthuraipoondi', 'kodiyakarai', 'shows', 'thiruthuraipoondi', 'beach', 'dates', 'back', 'years', 'kodiyakarai', 'around', 'years', 'ago', 'another', 'study', 'suggests', 'appearance', 'reefs', 'evidence', 'indicate', 'recency', 'coral', 'sample', 'gives', 'radiocarbon', 'age', 'years', 'bp', 'due', 'shallow', 'waters', 'adam', 'bridge', 'presents', 'formidable', 'hindrance', 'navigation', 'palk', 'strait', 'though', 'trade', 'across', 'indiasri', 'lanka', 'divide', 'active', 'since', 'least', 'first', 'millennium', 'bc', 'limited', 'small', 'boats', 'dinghies', 'larger', 'oceangoing', 'vessels', 'west', 'navigate', 'around', 'sri', 'lanka', 'reach', 'india', 'eastern', 'coast', 'eminent', 'british', 'geographer', 'major', 'james', 'rennell', 'surveyed', 'region', 'young', 'officer', 'late', 'century', 'suggested', 'navigable', 'passage', 'could', 'maintained', 'dredging', 'strait', 'ramisseram', 'sic', 'however', 'little', 'notice', 'given', 'proposal', 'perhaps', 'came', 'young', 'unknown', 'officer', 'idea', 'got', 'revived', 'years', 'later', 'in', 'sir', 'arthur', 'cotton', 'ensign', 'assigned', 'survey', 'pamban', 'channel', 'separates', 'indian', 'mainland', 'island', 'rameswaram', 'forms', 'first', 'link', 'adam', 'bridge', 'geological', 'evidence', 'indicates', 'land', 'connection', 'bridged', 'past', 'temple', 'records', 'suggest', 'violent', 'storms', 'broke', 'link', 'cotton', 'suggested', 'channel', 'could', 'dredged', 'enable', 'passage', 'ships', 'nothing', 'done', 'major', 'sim', 'directed', 'blasting', 'removal', 'rocks', 'a', 'detailed', 'marine', 'survey', 'adam', 'bridge', 'undertaken', 'lieutenants', 'f', 't', 'powell', 'ethersey', 'grieve', 'christopher', 'along', 'draughtsman', 'felix', 'jones', 'operations', 'dredge', 'channel', 'recommenced', 'next', 'year', 'however', 'subsequent', 'efforts', 'century', 'succeed', 'keeping', 'passage', 'navigable', 'vessels', 'except', 'light', 'draft', 'the', 'government', 'india', 'constituted', 'nine', 'committees', 'independence', 'five', 'committees', 'since', 'suggest', 'alignments', 'sethusamudram', 'canal', 'project', 'most', 'suggested', 'landbased', 'passages', 'across', 'rameswaram', 'island', 'none', 'recommended', 'alignment', 'across', 'adam', 'bridge', 'the', 'sethusamudram', 'project', 'committee', 'also', 'strongly', 'recommended', 'union', 'government', 'use', 'land', 'passages', 'instead', 'cutting', 'adam', 'bridge', 'several', 'advantages', 'land', 'passage', 'in', 'government', 'india', 'approved', 'multimillion', 'dollar', 'sethusamudram', 'shipping', 'canal', 'project', 'aims', 'create', 'ship', 'channel', 'across', 'palk', 'strait', 'dredging', 'shallow', 'ocean', 'floor', 'near', 'dhanushkodi', 'the', 'channel', 'expected', 'cut', 'km', 'nearly', 'hours', 'shipping', 'time', 'voyage', 'around', 'island', 'sri', 'lanka', 'this', 'proposed', 'channel', 'current', 'alignment', 'requires', 'dredging', 'adam', 'bridge', 'indian', 'political', 'parties', 'including', 'bharatiya', 'janata', 'party', 'bjp', 'all', 'india', 'anna', 'dravida', 'munnetra', 'kazhagam', 'aiadmk', 'rashtriya', 'janata', 'dal', 'rjd', 'janata', 'dal', 'secular', 'jd', 'hindu', 'organisations', 'oppose', 'dredging', 'shoal', 'religious', 'grounds', 'the', 'contention', 'adam', 'bridge', 'identified', 'popularly', 'causeway', 'described', 'ramayana', 'the', 'political', 'parties', 'organizations', 'suggest', 'alternate', 'alignment', 'channel', 'avoids', 'damage', 'adam', 'bridge', 'the', 'state', 'central', 'governments', 'opposed', 'changes', 'union', 'shipping', 'minister', 't', 'r', 'baalu', 'belongs', 'dravida', 'munnetra', 'kazhagam', 'strong', 'supporter', 'project', 'maintaining', 'current', 'proposal', 'economically', 'viable', 'environmentally', 'sustainable', 'alternatives', 'opposition', 'dredging', 'causeway', 'also', 'stems', 'concerns', 'impact', 'area', 'ecology', 'marine', 'wealth', 'potential', 'loss', 'thorium', 'deposits', 'area', 'increased', 'risk', 'damage', 'due', 'tsunamis', 'some', 'organisations', 'completely', 'oppose', 'project', 'economic', 'environmental', 'grounds', 'claim', 'proper', 'scientific', 'studies', 'conducted', 'undertaking', 'project', 'certain', 'historical', 'inscriptions', 'old', 'travel', 'guides', 'old', 'dictionary', 'references', 'old', 'maps', 'cited', 'support', 'religious', 'geographical', 'belief', 'ancient', 'manmade', 'bridge', 'in', 'hindu', 'epic', 'ramayana', 'bridge', 'created', 'rama', 'lakshmana', 'assistance', 'hanuman', 'vanara', 'army', 'reach', 'lanka', 'find', 'rama', 'wife', 'sita', 'kidnapped', 'ravana', 'in', 'sri', 'lankan', 'tourism', 'development', 'authority', 'sought', 'promote', 'religious', 'tourism', 'hindu', 'pilgrims', 'india', 'including', 'phenomenon', 'one', 'points', 'ramayana', 'trail', 'celebrating', 'legend', 'prince', 'rama', 'some', 'sri', 'lankan', 'historians', 'condemned', 'undertaking', 'gross', 'distortion', 'sri', 'lankan', 'history', 'vaishnava', 'news', 'network', 'usbased', 'news', 'services', 'claimed', 'found', 'remains', 'bridge', 'built', 'rama', 'vanara', 'army', 'narrated', 'ramayana', 'citation', 'needed', 'based', 'study', 'nasa', 'satellite', 'images', 'contended', 'natural', 'formation', 'humanmade', 'structure', 'nasa', 'distanced', 'claims', 'saying', 'images', 'reveal', 'nothing', 'naturally', 'occurring', 'chain', 'sandbanks', 'it', 'also', 'clarified', 'the', 'images', 'reproduced', 'websites', 'may', 'well', 'interpretation', 'certainly', 'remote', 'sensing', 'images', 'photographs', 'orbit', 'provide', 'direct', 'information', 'origin', 'age', 'chain', 'islands', 'certainly', 'determine', 'whether', 'humans', 'involved', 'producing', 'patterns', 'seen', 'in', 'team', 'led', 'professor', 'sm', 'ramasamy', 'centre', 'remote', 'sensing', 'crs', 'bharathidasan', 'university', 'tiruchi', 'said', 'landbeaches', 'ramanathapuram', 'pamban', 'formed', 'due', 'longshore', 'drifting', 'currents', 'about', 'years', 'ago', 'currents', 'moved', 'anticlockwise', 'direction', 'north', 'clockwise', 'direction', 'south', 'rameswaram', 'talaimannar', 'the', 'team', 'suggested', 'carbon', 'dating', 'beaches', 'roughly', 'matches', 'dates', 'ramayana', 'link', 'epic', 'needs', 'explored', 'a', 'former', 'director', 'geological', 'survey', 'india', 'badrinarayanan', 'said', 'natural', 'formation', 'would', 'impossible', 'due', 'presence', 'loose', 'sand', 'layer', 'corals', 'entire', 'stretch', 'corals', 'typically', 'form', 'rocks', 'he', 'suggests', 'thorough', 'analysis', 'conducted', 'geological', 'survey', 'india', 'undertaking', 'sscp', 'project', 'the', 'archaeological', 'survey', 'india', 'government', 'india', 'informed', 'supreme', 'court', 'india', 'affidavit', 'historical', 'proof', 'bridge', 'built', 'rama', 'in', 'court', 'case', 'spokesman', 'government', 'stated', 'bridge', 'destroyed', 'rama', 'according', 'scriptures', 'claim', 'rejected', 'observers', 'in', 'connection', 'canal', 'project', 'madras', 'high', 'court', 'verdict', 'stated', 'rama', 'sethu', 'manmade', 'structure', 'in', 'publication', 'national', 'remote', 'sensing', 'agency', 'said', 'structure', 'may', 'manmade', 'the', 'report', 'archaeological', 'survey', 'india', 'found', 'evidence', 'manmade']\n"
     ]
    }
   ],
   "source": [
    "# Cleaning using Regular Expression\n",
    "import re\n",
    "import string\n",
    "\n",
    "def clean_via_re(text):\n",
    "    text = text.lower()\n",
    "    text = re.sub('.*\\d.*', '', text)\n",
    "    text = re.sub('[%s]' % re.escape(string.punctuation), '', text)\n",
    "    if text == 's':\n",
    "        text = \"\"\n",
    "#     text = re.sub('[a-z]','', text)\n",
    "    return text\n",
    "    \n",
    "    \n",
    "text_re_cleaning = [clean_via_re(text) for text in filtered_text]\n",
    "final_text = list(filter(None, text_re_cleaning))\n",
    "\n",
    "# print(final_text)\n"
   ]
  },
  {
   "cell_type": "code",
   "execution_count": 22,
   "metadata": {},
   "outputs": [],
   "source": [
    "#Pickle the filterd final text data into a file\n",
    "import pickle\n",
    "\n",
    "with open(\"final_clean_text.txt\", \"wb\") as file:\n",
    "    pickle.dump(final_text, file)"
   ]
  }
 ],
 "metadata": {
  "kernelspec": {
   "display_name": "Python 3",
   "language": "python",
   "name": "python3"
  },
  "language_info": {
   "codemirror_mode": {
    "name": "ipython",
    "version": 3
   },
   "file_extension": ".py",
   "mimetype": "text/x-python",
   "name": "python",
   "nbconvert_exporter": "python",
   "pygments_lexer": "ipython3",
   "version": "3.7.1"
  }
 },
 "nbformat": 4,
 "nbformat_minor": 2
}
