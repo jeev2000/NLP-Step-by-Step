{
 "cells": [
  {
   "cell_type": "code",
   "execution_count": 4,
   "metadata": {},
   "outputs": [
    {
     "name": "stdout",
     "output_type": "stream",
     "text": [
      "showing info https://raw.githubusercontent.com/nltk/nltk_data/gh-pages/index.xml\n"
     ]
    }
   ],
   "source": [
    "#FIrst step is to download nltk and all the available packages and corpora.\n",
    "\n",
    "import nltk\n",
    "nltk.download()\n",
    "%config IPCompleter.greedy=True\n"
   ]
  },
  {
   "cell_type": "code",
   "execution_count": 1,
   "metadata": {},
   "outputs": [],
   "source": [
    "# For extracting data from websites or some html pages Import beautifulsoup\n",
    "\n",
    "import urllib.request as r\n",
    "from bs4 import BeautifulSoup\n",
    "import requests\n",
    "\n",
    "def scraptext_from_url(url):\n",
    "    page = requests.get(url).text\n",
    "    soup = BeautifulSoup(page, \"lxml\")\n",
    "    text = [p.text for p in soup.find(class_=\"mw-parser-output\").find_all('p')]\n",
    "    return text\n",
    "\n",
    "url = \"https://en.wikipedia.org/wiki/Adam%27s_Bridge\"\n",
    "text = scraptext_from_url(url)\n",
    "finaltext = ' '.join(text)"
   ]
  },
  {
   "cell_type": "code",
   "execution_count": 19,
   "metadata": {},
   "outputs": [],
   "source": [
    "# Save the file using pickle\n",
    "import pickle\n",
    "\n",
    "with open(\"extracted_text.txt\", \"wb\") as file:\n",
    "    pickle.dump(finaltext, file)"
   ]
  }
 ],
 "metadata": {
  "kernelspec": {
   "display_name": "Python 3",
   "language": "python",
   "name": "python3"
  },
  "language_info": {
   "codemirror_mode": {
    "name": "ipython",
    "version": 3
   },
   "file_extension": ".py",
   "mimetype": "text/x-python",
   "name": "python",
   "nbconvert_exporter": "python",
   "pygments_lexer": "ipython3",
   "version": "3.7.1"
  }
 },
 "nbformat": 4,
 "nbformat_minor": 2
}
