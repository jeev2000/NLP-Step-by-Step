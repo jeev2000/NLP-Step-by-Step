{
 "cells": [
  {
   "cell_type": "code",
   "execution_count": null,
   "metadata": {},
   "outputs": [],
   "source": [
    "#Pickle the data out from saved file\n",
    "import pickle\n",
    "\n",
    "with open(\"final_clean_text.txt\", \"rb\") as file:\n",
    "    text = pickle.load(file)\n",
    "    \n",
    "# print(text)"
   ]
  },
  {
   "cell_type": "code",
   "execution_count": 23,
   "metadata": {},
   "outputs": [
    {
     "name": "stdout",
     "output_type": "stream",
     "text": [
      "[('bridge', 30), ('the', 24), ('adam', 20), ('india', 20), ('sri', 15), ('lanka', 15), ('island', 12), ('in', 11), ('years', 11), ('rama', 10), ('rameswaram', 9), ('structure', 9), ('project', 9), ('chain', 8), ('channel', 8), ('sand', 8), ('geological', 7), ('land', 7), ('indian', 7), ('ramayana', 7)]\n"
     ]
    }
   ],
   "source": [
    "#Term frequency\n",
    "\n",
    "import nltk\n",
    "from nltk.tokenize import word_tokenize\n",
    "\n",
    "dist = nltk.FreqDist(text)\n",
    "# top_words = sorted(dist.items())[:10]\n",
    "top_words = dist.most_common()[:20]\n",
    "print(top_words)\n",
    "# for key, value in dist.items():\n",
    "#     print(str(key) + \":\" + str(value))\n",
    "  "
   ]
  },
  {
   "cell_type": "code",
   "execution_count": 43,
   "metadata": {},
   "outputs": [],
   "source": [
    "#Load data from pickle\n",
    "import pickle\n",
    "\n",
    "with open(\"extracted_text.txt\",\"rb\") as file:\n",
    "    text = pickle.load(file)\n",
    "\n",
    "    \n",
    "# Generate Tokens from the text extracted\n",
    "from nltk.tokenize import sent_tokenize\n",
    "sentences = sent_tokenize(text)\n",
    "\n",
    "# print(sentences)\n"
   ]
  },
  {
   "cell_type": "code",
   "execution_count": 45,
   "metadata": {},
   "outputs": [
    {
     "name": "stdout",
     "output_type": "stream",
     "text": [
      "  (0, 0)\t1.0\n",
      "  (1, 0)\t1.0\n"
     ]
    }
   ],
   "source": [
    "# Create TF-IDF matrix using CountVectorizer\n",
    "from sklearn.feature_extraction.text import TfidfVectorizer\n",
    "\n",
    "tf = TfidfVectorizer(ngram_range=(1,6),\n",
    "                     min_df = 0, stop_words = 'english', sublinear_tf=True)\n",
    "tfidf_matrix =  tf.fit_transform([\"I am fine\",\"You are fine\"])\n",
    "print(tfidf_matrix)\n",
    "print(tfidf_matrix)"
   ]
  },
  {
   "cell_type": "code",
   "execution_count": 29,
   "metadata": {},
   "outputs": [
    {
     "ename": "SyntaxError",
     "evalue": "invalid syntax (<ipython-input-29-22100cabb968>, line 7)",
     "output_type": "error",
     "traceback": [
      "\u001b[1;36m  File \u001b[1;32m\"<ipython-input-29-22100cabb968>\"\u001b[1;36m, line \u001b[1;32m7\u001b[0m\n\u001b[1;33m    wc.generate(\" \".join(text))`\u001b[0m\n\u001b[1;37m                               ^\u001b[0m\n\u001b[1;31mSyntaxError\u001b[0m\u001b[1;31m:\u001b[0m invalid syntax\n"
     ]
    }
   ],
   "source": [
    "# Create a word cloud from the text\n",
    "\n",
    "from wordcloud import WordCloud\n",
    "import matplotlib.pyplot as plt\n",
    "\n",
    "wc = WordCloud(background_color=\"white\", colormap=\"Dark2\", max_font_size=150, random_state=42)\n",
    "wc.generate(\" \".join(text))\n",
    "\n",
    "plt.rcParams['figure.figsize'] = [16, 6]\n",
    "plt.imshow(wc, interpolation=\"bilinear\")\n",
    "plt.show()\n",
    "\n"
   ]
  },
  {
   "cell_type": "code",
   "execution_count": null,
   "metadata": {},
   "outputs": [],
   "source": []
  }
 ],
 "metadata": {
  "kernelspec": {
   "display_name": "Python 3",
   "language": "python",
   "name": "python3"
  },
  "language_info": {
   "codemirror_mode": {
    "name": "ipython",
    "version": 3
   },
   "file_extension": ".py",
   "mimetype": "text/x-python",
   "name": "python",
   "nbconvert_exporter": "python",
   "pygments_lexer": "ipython3",
   "version": "3.7.1"
  }
 },
 "nbformat": 4,
 "nbformat_minor": 2
}
